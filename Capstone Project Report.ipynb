{
    "nbformat_minor": 1, 
    "cells": [
        {
            "source": "# <center> Residential Multistorey Apartment Prices & Venues Analysis of Bangalore - India   ", 
            "cell_type": "markdown", 
            "metadata": {}
        }, 
        {
            "source": "## Introduction", 
            "cell_type": "markdown", 
            "metadata": {
                "collapsed": true
            }
        }, 
        {
            "source": "### 1.  Problem Description & Background", 
            "cell_type": "markdown", 
            "metadata": {}
        }, 
        {
            "source": "> Bangalore (also called as Bengaluru) is one of the metropolitan city in India. It has a population of over ten million, making it a megacity and the third-most populous city and fifth-most populous urban agglomeration in India, located in an area of **741 km\u00b2** of the metropolis. The population density of the city of Bangalore is **4,381 persons per square kilometer**. The population growth has extended by 47% in only ten years in light of creating open entryways for employment and growth that are attracting individuals from everywhere throughout the nation. Bangalore is also referred as \"Silicon Valley of India\" (or \"IT capital of India\"). \n\n> A demographically diverse city, Bangalore is the second fastest-growing major metropolis in India. Bangalore suffers from the same major urbanization problems seen in many fast-growing cities in developing countries. The encouragement of high-tech industry in Bangalore, has not favored local employment development, but has instead increased land values and forced out small enterprise.\nAs from the figures, Bangalore has high population and population density. When we think of the city residents, they may want to choose the regions where real estate values are lower. At the same time, they may want to choose the locality according to the social places density. However, it is difficult to obtain information that will guide investors in this direction, nowadays. As city has high population density and land prices are very expensive, residents prefer to buy multisory apartments.\n\n> Considering all these problems, we can create a map and charts to understand the residential apartment prices in Bangalore and see how each locality is clustered according to the venue density. ", 
            "cell_type": "markdown", 
            "metadata": {}
        }, 
        {
            "source": "### 2. Data Description", 
            "cell_type": "markdown", 
            "metadata": {}
        }, 
        {
            "source": "> I have found data from following sources and used in this project.\n>\n>- **Forsquare :** I used Forsquare API to get the most common venues for given Locality of Bangalore.\n\n>- **JSON FIle :** I found the Ward-level Administrative Divisions of the Bangalore from Github Repository. The .json file has coordinates of the city and sub urban areas. I cleaned the data and reduced it to city of Bangalore which I used it to create choropleth map of Residential Apartment Sales Price of Bangalore.\n\n>- **Realestate sites :** There are not too many public datas related to demographic and real estate prices for the city of Bangalore. I collected latest per square feet Housing Apartment Sales Price Average for each Locality of Bangalore from housing retail web pages. Then I have created data tables using the values got from the retail web pages. An example data is shown below.", 
            "cell_type": "markdown", 
            "metadata": {}
        }, 
        {
            "source": "![alt text](https://raw.githubusercontent.com/Jothi-Nadarajan/Coursera_Capstone/master/C9_Screenshot_data1.png \"Example Data Set\")", 
            "cell_type": "markdown", 
            "metadata": {}
        }, 
        {
            "source": "\n\n>- **Google Map :** I used Google Map, \u2018Search Nearby\u2019 option to get the center coordinates (latitude and longitude) of each locality.", 
            "cell_type": "markdown", 
            "metadata": {}
        }, 
        {
            "execution_count": null, 
            "cell_type": "code", 
            "metadata": {}, 
            "outputs": [], 
            "source": ""
        }, 
        {
            "execution_count": null, 
            "cell_type": "code", 
            "metadata": {}, 
            "outputs": [], 
            "source": ""
        }, 
        {
            "execution_count": null, 
            "cell_type": "code", 
            "metadata": {}, 
            "outputs": [], 
            "source": ""
        }, 
        {
            "execution_count": null, 
            "cell_type": "code", 
            "metadata": {}, 
            "outputs": [], 
            "source": ""
        }
    ], 
    "metadata": {
        "kernelspec": {
            "display_name": "Python 3.5", 
            "name": "python3", 
            "language": "python"
        }, 
        "language_info": {
            "mimetype": "text/x-python", 
            "nbconvert_exporter": "python", 
            "version": "3.5.5", 
            "name": "python", 
            "file_extension": ".py", 
            "pygments_lexer": "ipython3", 
            "codemirror_mode": {
                "version": 3, 
                "name": "ipython"
            }
        }
    }, 
    "nbformat": 4
}